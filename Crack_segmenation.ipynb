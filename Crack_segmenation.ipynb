{
 "cells": [
  {
   "cell_type": "code",
   "execution_count": 1,
   "id": "98e08bd0-bb88-44cd-98ee-5c4879548ce1",
   "metadata": {},
   "outputs": [],
   "source": [
    "import cv2\n",
    "import math\n",
    "import numpy as np\n",
    "import scipy.ndimage"
   ]
  },
  {
   "cell_type": "code",
   "execution_count": 2,
   "id": "1051b8be-08aa-46ce-afcf-3307f6cd986e",
   "metadata": {},
   "outputs": [],
   "source": [
    "def orientated_non_max_suppression(mag, ang):\n",
    "    ang_quant = np.round(ang / (np.pi/4)) % 4\n",
    "    winE = np.array([[0, 0, 0],[1, 1, 1], [0, 0, 0]])\n",
    "    winSE = np.array([[1, 0, 0], [0, 1, 0], [0, 0, 1]])\n",
    "    winS = np.array([[0, 1, 0], [0, 1, 0], [0, 1, 0]])\n",
    "    winSW = np.array([[0, 0, 1], [0, 1, 0], [1, 0, 0]])\n",
    "\n",
    "    magE = non_max_suppression(mag, winE)\n",
    "    magSE = non_max_suppression(mag, winSE)\n",
    "    magS = non_max_suppression(mag, winS)\n",
    "    magSW = non_max_suppression(mag, winSW)\n",
    "\n",
    "    mag[ang_quant == 0] = magE[ang_quant == 0]\n",
    "    mag[ang_quant == 1] = magSE[ang_quant == 1]\n",
    "    mag[ang_quant == 2] = magS[ang_quant == 2]\n",
    "    mag[ang_quant == 3] = magSW[ang_quant == 3]\n",
    "    return mag\n"
   ]
  },
  {
   "cell_type": "code",
   "execution_count": 3,
   "id": "3d0955a7-5c60-4421-b560-175dfc4425de",
   "metadata": {},
   "outputs": [],
   "source": [
    "def non_max_suppression(data, win):\n",
    "    data_max = scipy.ndimage.filters.maximum_filter(data, footprint=win, mode='constant')\n",
    "    data_max[data != data_max] = 0\n",
    "    return data_max\n"
   ]
  },
  {
   "cell_type": "code",
   "execution_count": 4,
   "id": "bf089f01-997b-4651-b89f-f2e2adb0efdb",
   "metadata": {},
   "outputs": [],
   "source": [
    "# start calulcation\n",
    "gray_image = cv2.imread(r'/Users/arushigupta/Desktop/Intership/Tires/Tire Data/Training/Cracked-19.jpg', 0)\n",
    "\n",
    "with_nmsup = True #apply non-maximal suppression\n",
    "fudgefactor = 1.3 \n",
    "sigma = 21 #for Gaussian Kernel\n",
    "kernel = 2*math.ceil(2*sigma)+1 #Kernel size\n",
    "\n",
    "gray_image = gray_image/255.0\n",
    "blur = cv2.GaussianBlur(gray_image, (kernel, kernel), sigma)\n",
    "gray_image = cv2.subtract(gray_image, blur)"
   ]
  },
  {
   "cell_type": "code",
   "execution_count": 5,
   "id": "0ff55c56-0e52-4eba-ae8f-8846cd75d1d8",
   "metadata": {},
   "outputs": [],
   "source": [
    "#sobelx = cv2.Sobel(gray_image, cv2.CV_64F, 1, 0, ksize=3)\n",
    "#sobely = cv2.Sobel(gray_image, cv2.CV_64F, 0, 1, ksize=3)\n",
    "#mag = np.hypot(sobelx, sobely)\n",
    "#ang = np.arctan2(sobely, sobelx)"
   ]
  },
  {
   "cell_type": "code",
   "execution_count": 6,
   "id": "2f6f4c51",
   "metadata": {},
   "outputs": [],
   "source": [
    "scharrx = cv2.Sobel(gray_image, cv2.CV_64F, 1, 0, ksize=3)\n",
    "scharry = cv2.Sobel(gray_image, cv2.CV_64F, 0, 1, ksize=3)\n",
    "mag = np.hypot(scharrx, scharry)\n",
    "ang = np.arctan2(scharry, scharrx)"
   ]
  },
  {
   "cell_type": "code",
   "execution_count": 7,
   "id": "4c020cc9-a24b-44b0-aa1c-f3ed98b5aef9",
   "metadata": {},
   "outputs": [],
   "source": [
    "# threshold\n",
    "threshold = 4 * fudgefactor * np.mean(mag)\n",
    "mag[mag < threshold] = 0"
   ]
  },
  {
   "cell_type": "code",
   "execution_count": 8,
   "id": "6432023d-4196-413b-b044-c94ea2a943d1",
   "metadata": {},
   "outputs": [
    {
     "name": "stderr",
     "output_type": "stream",
     "text": [
      "/var/folders/py/xhjr5n9s729_02xr2vxm8km80000gn/T/ipykernel_45045/2386538402.py:2: DeprecationWarning: Please use `maximum_filter` from the `scipy.ndimage` namespace, the `scipy.ndimage.filters` namespace is deprecated.\n",
      "  data_max = scipy.ndimage.filters.maximum_filter(data, footprint=win, mode='constant')\n"
     ]
    }
   ],
   "source": [
    "#either get edges directly\n",
    "if with_nmsup is False:\n",
    "    mag = cv2.normalize(mag, 0, 255, cv2.NORM_MINMAX)\n",
    "    kernel = np.ones((5,5),np.uint8)\n",
    "    result = cv2.morphologyEx(mag, cv2.MORPH_CLOSE, kernel)\n",
    "    cv2.imshow('im', result)\n",
    "    cv2.waitKey()\n",
    "\n",
    "#or apply a non-maximal suppression\n",
    "else:\n",
    "\n",
    "    # non-maximal suppression\n",
    "    mag = orientated_non_max_suppression(mag, ang)\n",
    "    # create mask\n",
    "    mag[mag > 0] = 255\n",
    "    mag = mag.astype(np.uint8)\n",
    "\n",
    "    kernel = np.ones((5,5),np.uint8)\n",
    "    result = cv2.morphologyEx(mag, cv2.MORPH_CLOSE, kernel)\n",
    "\n",
    "    cv2.imshow('im', result)\n",
    "    cv2.waitKey(0)\n",
    "    "
   ]
  },
  {
   "cell_type": "code",
   "execution_count": 9,
   "id": "e2c62d57-7eae-4ff3-84f5-4dda657c8370",
   "metadata": {},
   "outputs": [],
   "source": [
    "cv2.destroyWindow(\"shown_img\")"
   ]
  },
  {
   "cell_type": "code",
   "execution_count": null,
   "id": "b0c827b9-2148-42e7-bbca-6c879372cfab",
   "metadata": {},
   "outputs": [],
   "source": []
  }
 ],
 "metadata": {
  "kernelspec": {
   "display_name": "Python 3.10 (tensorflow)",
   "language": "python",
   "name": "tensorflow"
  },
  "language_info": {
   "codemirror_mode": {
    "name": "ipython",
    "version": 3
   },
   "file_extension": ".py",
   "mimetype": "text/x-python",
   "name": "python",
   "nbconvert_exporter": "python",
   "pygments_lexer": "ipython3",
   "version": "3.10.11"
  }
 },
 "nbformat": 4,
 "nbformat_minor": 5
}
